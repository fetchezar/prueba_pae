{
 "cells": [
  {
   "cell_type": "code",
   "execution_count": 3,
   "metadata": {},
   "outputs": [],
   "source": [
    "%load_ext autoreload\n",
    "%autoreload 2"
   ]
  },
  {
   "cell_type": "code",
   "execution_count": 1,
   "metadata": {},
   "outputs": [
    {
     "name": "stdout",
     "output_type": "stream",
     "text": [
      "Created!\n",
      "Downloaded!\n",
      "Parsed!\n",
      "Text splitted!\n",
      "Words counted!\n"
     ]
    },
    {
     "data": {
      "text/plain": [
       "Counter({'Two': 1,\n",
       "         'years': 1,\n",
       "         'ago': 1,\n",
       "         'Kenneth': 1,\n",
       "         'Goldsmith': 1,\n",
       "         'the': 8,\n",
       "         'University': 1,\n",
       "         'of': 5,\n",
       "         'Pennsylvania': 1,\n",
       "         'poet': 1,\n",
       "         'and': 3,\n",
       "         'conceptual': 1,\n",
       "         'artist': 1,\n",
       "         'taught': 1,\n",
       "         'a': 2,\n",
       "         'creative': 2,\n",
       "         'writing': 1,\n",
       "         'course': 1,\n",
       "         'he': 1,\n",
       "         'called': 1,\n",
       "         'Wasting': 1,\n",
       "         'Time': 1,\n",
       "         'on': 1,\n",
       "         'Internet': 1,\n",
       "         'Students': 1,\n",
       "         'would': 1,\n",
       "         'do': 1,\n",
       "         'just': 1,\n",
       "         'that': 1,\n",
       "         'probing': 1,\n",
       "         'tedium': 1,\n",
       "         'internet': 1,\n",
       "         'But': 1,\n",
       "         'thanks': 1,\n",
       "         'to': 1,\n",
       "         'in': 1,\n",
       "         'class': 2,\n",
       "         'use': 1,\n",
       "         'social': 1,\n",
       "         'media': 1,\n",
       "         'also': 1,\n",
       "         'became': 1,\n",
       "         'ferment': 1,\n",
       "         'improvised': 1,\n",
       "         'dance': 1,\n",
       "         'trust': 1,\n",
       "         'experiments': 1,\n",
       "         'inquiries': 1,\n",
       "         'into': 1,\n",
       "         'modern': 1,\n",
       "         'nature': 1,\n",
       "         'self': 1,\n",
       "         'crowd': 1,\n",
       "         '': 1})"
      ]
     },
     "execution_count": 1,
     "metadata": {},
     "output_type": "execute_result"
    }
   ],
   "source": [
    "import ej1\n",
    "\n",
    "url = \"https://www.nytimes.com/2016/08/07/education/edlife/kenneth-goldsmith-on-wasting-time-on-the-internet.html\" \n",
    "ej1.body(url)"
   ]
  },
  {
   "cell_type": "code",
   "execution_count": null,
   "metadata": {},
   "outputs": [],
   "source": []
  }
 ],
 "metadata": {
  "kernelspec": {
   "display_name": "Python 3.7.4 (curso_pae)",
   "language": "python",
   "name": "curso_pae"
  },
  "language_info": {
   "codemirror_mode": {
    "name": "ipython",
    "version": 3
   },
   "file_extension": ".py",
   "mimetype": "text/x-python",
   "name": "python",
   "nbconvert_exporter": "python",
   "pygments_lexer": "ipython3",
   "version": "3.7.4"
  }
 },
 "nbformat": 4,
 "nbformat_minor": 4
}
